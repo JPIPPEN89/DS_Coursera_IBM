{
 "cells": [
  {
   "cell_type": "markdown",
   "id": "9ce9d03c-ad75-4a2d-a7d0-a6d7407ff9c5",
   "metadata": {},
   "source": [
    "# Data Science Tools and Ecosystem"
   ]
  },
  {
   "cell_type": "markdown",
   "id": "ef241bd3-6257-4520-9e77-17ea33e9deb2",
   "metadata": {},
   "source": [
    "### In this notebook, Data Science Tools and Ecosystem are summarized."
   ]
  },
  {
   "cell_type": "markdown",
   "id": "873477e1-7680-4513-86f2-3d94e9812eb8",
   "metadata": {},
   "source": [
    "#### Some of the popular languages that Data Scientists use are:\n",
    "\n",
    "1. Python\n",
    "2. R\n",
    "3. Julia "
   ]
  },
  {
   "cell_type": "markdown",
   "id": "ea19ec56-5f5d-40b0-93eb-7602a204a62f",
   "metadata": {},
   "source": [
    "#### Some of the commonly used libraries used by Data Scientists include:\n",
    "\n",
    "1. Pandas (Python)\n",
    "2. MatPlotLib (Python)\n",
    "3. GGplot (R)\n"
   ]
  },
  {
   "cell_type": "markdown",
   "id": "04148d8c-7c6a-4c90-9e66-f8836ed89573",
   "metadata": {},
   "source": [
    "| Data Science Tools |\n",
    "|---------------|\n",
    "| Jupyter Lab        |\n",
    "| RStudio        |\n",
    "| VS Code         |"
   ]
  },
  {
   "cell_type": "markdown",
   "id": "d54578a5-26b4-40d4-a6cf-bd7ba4093a77",
   "metadata": {},
   "source": [
    "<h3>Below are a few examples of evaluating arithmetic expressions in Python</h3>"
   ]
  },
  {
   "cell_type": "code",
   "execution_count": 2,
   "id": "48222a06-04de-45da-97dc-57534b7278e8",
   "metadata": {},
   "outputs": [
    {
     "data": {
      "text/plain": [
       "17"
      ]
     },
     "execution_count": 2,
     "metadata": {},
     "output_type": "execute_result"
    }
   ],
   "source": [
    "# This a simple arithmetic expression to mutiply then add integers\n",
    "(3*4)+5"
   ]
  },
  {
   "cell_type": "code",
   "execution_count": 4,
   "id": "9575b5b4-4c61-4de7-ad6b-dba28e985817",
   "metadata": {},
   "outputs": [
    {
     "name": "stdout",
     "output_type": "stream",
     "text": [
      "200 minutes is 3 hours and 20 minutes!\n"
     ]
    }
   ],
   "source": [
    "# This will convert 200 minutes to hours by diving by 60\n",
    "\n",
    "minutes = 200\n",
    "hours = 200 // 60\n",
    "leftover = 200 % 60\n",
    "\n",
    "print(f\"{minutes} minutes is {hours} hours and {leftover} minutes!\")"
   ]
  },
  {
   "cell_type": "markdown",
   "id": "b4f2b24d-9c9a-411c-9b47-5439cb7c2c42",
   "metadata": {},
   "source": [
    "<h5><b>Objectives:</b></h5>\n",
    "\n",
    "* Python Programming\n",
    "* Jupyter Notebooks\n",
    "* Arithmetic\n",
    "* Markdown\n",
    "* Comments"
   ]
  },
  {
   "cell_type": "markdown",
   "id": "f339f770-c34d-4af2-abbb-37507de6ab66",
   "metadata": {},
   "source": [
    "<h2>Author</h2>\n",
    "Josh Pippen"
   ]
  },
  {
   "cell_type": "code",
   "execution_count": null,
   "id": "7c994396-1693-436f-b3e2-a77324c2f0ce",
   "metadata": {},
   "outputs": [],
   "source": []
  }
 ],
 "metadata": {
  "kernelspec": {
   "display_name": "Python 3 (ipykernel)",
   "language": "python",
   "name": "python3"
  },
  "language_info": {
   "codemirror_mode": {
    "name": "ipython",
    "version": 3
   },
   "file_extension": ".py",
   "mimetype": "text/x-python",
   "name": "python",
   "nbconvert_exporter": "python",
   "pygments_lexer": "ipython3",
   "version": "3.13.1"
  }
 },
 "nbformat": 4,
 "nbformat_minor": 5
}
